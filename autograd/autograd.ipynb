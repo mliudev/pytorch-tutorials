{
 "cells": [
  {
   "cell_type": "code",
   "execution_count": 2,
   "id": "3040c8dc",
   "metadata": {},
   "outputs": [
    {
     "name": "stdout",
     "output_type": "stream",
     "text": [
      "input is tensor([1., 1., 1., 1., 1.])\n",
      "expected output is tensor([0., 0., 0.])\n",
      "weights are tensor([[ 0.1335, -0.9004, -0.2711],\n",
      "        [ 0.7404, -0.4773, -1.5070],\n",
      "        [ 0.3029,  0.1858, -0.4899],\n",
      "        [-0.2321,  1.4756, -1.1762],\n",
      "        [ 0.8575,  1.1003,  0.5680]], requires_grad=True)\n",
      "biases are tensor([-0.1431, -1.1082, -1.3910], requires_grad=True)\n",
      "loss is 0.8959514498710632\n"
     ]
    }
   ],
   "source": [
    "import torch\n",
    "\n",
    "x = torch.ones(5)  # input tensor\n",
    "print(f\"input is {x}\")\n",
    "\n",
    "y = torch.zeros(3)  # expected output\n",
    "print(f\"expected output is {y}\")\n",
    "\n",
    "w = torch.randn(5, 3, requires_grad=True)\n",
    "print(f\"weights are {w}\")\n",
    "\n",
    "b = torch.randn(3, requires_grad=True)\n",
    "print(f\"biases are {b}\")\n",
    "\n",
    "z = torch.matmul(x, w)+b\n",
    "loss = torch.nn.functional.binary_cross_entropy_with_logits(z, y)\n",
    "\n",
    "print(f\"loss is {loss}\")"
   ]
  },
  {
   "cell_type": "code",
   "execution_count": 3,
   "id": "65bb0336",
   "metadata": {},
   "outputs": [
    {
     "name": "stdout",
     "output_type": "stream",
     "text": [
      "Gradient function for z = <AddBackward0 object at 0x7f756c5ba620>\n",
      "Gradient function for loss = <BinaryCrossEntropyWithLogitsBackward0 object at 0x7f756c5b9900>\n"
     ]
    }
   ],
   "source": [
    "print(f\"Gradient function for z = {z.grad_fn}\")\n",
    "print(f\"Gradient function for loss = {loss.grad_fn}\")"
   ]
  },
  {
   "cell_type": "code",
   "execution_count": 4,
   "id": "74d18754",
   "metadata": {},
   "outputs": [
    {
     "name": "stdout",
     "output_type": "stream",
     "text": [
      "tensor([[0.2800, 0.1895, 0.0046],\n",
      "        [0.2800, 0.1895, 0.0046],\n",
      "        [0.2800, 0.1895, 0.0046],\n",
      "        [0.2800, 0.1895, 0.0046],\n",
      "        [0.2800, 0.1895, 0.0046]])\n",
      "tensor([0.2800, 0.1895, 0.0046])\n"
     ]
    }
   ],
   "source": [
    "loss.backward()\n",
    "print(w.grad)\n",
    "print(b.grad)"
   ]
  },
  {
   "cell_type": "code",
   "execution_count": 5,
   "id": "c59c4161",
   "metadata": {},
   "outputs": [
    {
     "name": "stdout",
     "output_type": "stream",
     "text": [
      "True\n",
      "False\n"
     ]
    }
   ],
   "source": [
    "z = torch.matmul(x, w)+b\n",
    "print(z.requires_grad)\n",
    "\n",
    "with torch.no_grad():\n",
    "    z = torch.matmul(x, w)+b\n",
    "print(z.requires_grad)"
   ]
  },
  {
   "cell_type": "code",
   "execution_count": 6,
   "id": "c3f401ce",
   "metadata": {},
   "outputs": [
    {
     "name": "stdout",
     "output_type": "stream",
     "text": [
      "False\n"
     ]
    }
   ],
   "source": [
    "z = torch.matmul(x, w)+b\n",
    "z_det = z.detach()\n",
    "print(z_det.requires_grad)"
   ]
  },
  {
   "cell_type": "code",
   "execution_count": null,
   "id": "8c090a40",
   "metadata": {},
   "outputs": [],
   "source": []
  }
 ],
 "metadata": {
  "kernelspec": {
   "display_name": "Python 3 (ipykernel)",
   "language": "python",
   "name": "python3"
  },
  "language_info": {
   "codemirror_mode": {
    "name": "ipython",
    "version": 3
   },
   "file_extension": ".py",
   "mimetype": "text/x-python",
   "name": "python",
   "nbconvert_exporter": "python",
   "pygments_lexer": "ipython3",
   "version": "3.11.4"
  }
 },
 "nbformat": 4,
 "nbformat_minor": 5
}
